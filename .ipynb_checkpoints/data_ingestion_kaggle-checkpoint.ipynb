{
 "cells": [
  {
   "cell_type": "markdown",
   "id": "bebda766-0043-4da3-b31a-3109191e5531",
   "metadata": {},
   "source": [
    "# 📊 **SageMaker Data Ingestion using Kaggle**\n",
    "---"
   ]
  },
  {
   "cell_type": "markdown",
   "id": "043669a1-5116-4362-a4b1-5cc9c29b4cb4",
   "metadata": {},
   "source": [
    "## Background \n",
    "This notebook demonstrates how you can ingest data into SageMaker using Kaggle API. \n",
    "[Kaggle](https://www.kaggle.com/) is an online community platform that has numerous datasets and ML challenges for data scientists and machine learning enthusiasts\n",
    "\n",
    "---\n"
   ]
  },
  {
   "cell_type": "markdown",
   "id": "b90e27fd-835c-484b-93e0-2880205dd043",
   "metadata": {},
   "source": [
    "## **Setup** "
   ]
  },
  {
   "cell_type": "markdown",
   "id": "2e09a90c-92c1-4dfb-ab28-54095e23d8d4",
   "metadata": {},
   "source": [
    "### Import Python Packages"
   ]
  },
  {
   "cell_type": "code",
   "execution_count": 14,
   "id": "91432bbf-db15-411a-b968-ae3b73521a19",
   "metadata": {},
   "outputs": [],
   "source": [
    "import pandas as pd\n",
    "import time"
   ]
  },
  {
   "cell_type": "code",
   "execution_count": 7,
   "id": "5791825b-2a82-4254-834b-33ff57b9b433",
   "metadata": {},
   "outputs": [
    {
     "name": "stdout",
     "output_type": "stream",
     "text": [
      "\u001b[33mWARNING: Running pip as the 'root' user can result in broken permissions and conflicting behaviour with the system package manager. It is recommended to use a virtual environment instead: https://pip.pypa.io/warnings/venv\u001b[0m\u001b[33m\n",
      "\u001b[0m\n",
      "\u001b[1m[\u001b[0m\u001b[34;49mnotice\u001b[0m\u001b[1;39;49m]\u001b[0m\u001b[39;49m A new release of pip available: \u001b[0m\u001b[31;49m22.2.2\u001b[0m\u001b[39;49m -> \u001b[0m\u001b[32;49m22.3.1\u001b[0m\n",
      "\u001b[1m[\u001b[0m\u001b[34;49mnotice\u001b[0m\u001b[1;39;49m]\u001b[0m\u001b[39;49m To update, run: \u001b[0m\u001b[32;49mpip install --upgrade pip\u001b[0m\n"
     ]
    }
   ],
   "source": [
    "!pip install --q kaggle "
   ]
  },
  {
   "cell_type": "markdown",
   "id": "5b50df32-7621-41bc-b872-30f8dd778832",
   "metadata": {},
   "source": [
    "To use Kaggle API, you must have an account and an API token. You can register for a Kaggle account [here](https://www.kaggle.com/docs/api) and generate your API token, it is completely free. "
   ]
  },
  {
   "cell_type": "code",
   "execution_count": 8,
   "id": "c72782f1-ce26-44a6-afd3-dcf56dd30f0e",
   "metadata": {},
   "outputs": [],
   "source": [
    "!touch ~/.kaggle/kaggle.json # Creates json file to store Kaggle API Credentials\n",
    "kaggle_api_token = {\"username\":\"<username>\",\"key\":\"<api_key>\"}  # Insert your own username and API Key here"
   ]
  },
  {
   "cell_type": "code",
   "execution_count": 9,
   "id": "103a33f5-0952-4c5e-ac5d-4ad1f33a70d8",
   "metadata": {},
   "outputs": [],
   "source": [
    "import json \n",
    "\n",
    "# Writes API Credentials to Kaggle file\n",
    "with open('/root/.kaggle/kaggle.json', 'w') as file: \n",
    "    json.dump(kaggle_api_token,file)\n",
    "    "
   ]
  },
  {
   "cell_type": "markdown",
   "id": "f217aba3-b280-4fb7-a781-e003fb71a104",
   "metadata": {},
   "source": [
    "For security reasons, we must ensure that other users of our computer do not have read access to our Kaggle credentials."
   ]
  },
  {
   "cell_type": "code",
   "execution_count": 10,
   "id": "98d15877-8b7a-442a-873b-4bf2c4ba63fa",
   "metadata": {},
   "outputs": [],
   "source": [
    "!chmod 600 ~/.kaggle/kaggle.json"
   ]
  },
  {
   "cell_type": "markdown",
   "id": "022b2e25-1261-40be-8c30-d1400099549b",
   "metadata": {},
   "source": [
    "Since our access token is now confiurged we can list and download the available datasets. This might take some time depending on your network connection."
   ]
  },
  {
   "cell_type": "code",
   "execution_count": 16,
   "id": "99cece59-8449-4ddf-8263-28c3b82bc3f8",
   "metadata": {},
   "outputs": [
    {
     "name": "stdout",
     "output_type": "stream",
     "text": [
      "ref                                                             title                                       size  lastUpdated          downloadCount  voteCount  usabilityRating  \n",
      "--------------------------------------------------------------  -----------------------------------------  -----  -------------------  -------------  ---------  ---------------  \n",
      "akshaydattatraykhare/diabetes-dataset                           Diabetes Dataset                             9KB  2022-10-06 08:55:25          12997        409  1.0              \n",
      "whenamancodes/covid-19-coronavirus-pandemic-dataset             COVID -19 Coronavirus Pandemic Dataset      11KB  2022-09-30 04:05:11          10257        321  1.0              \n",
      "thedevastator/240000-household-electricity-consumption-records  Household Electricity Consumption            3MB  2022-10-24 01:22:40            869         27  1.0              \n",
      "akshaydattatraykhare/data-for-admission-in-the-university       Data for Admission in the University         4KB  2022-10-27 11:05:45           2685         61  1.0              \n",
      "whenamancodes/credit-card-customers-prediction                  Credit Card Customers Prediction           379KB  2022-10-30 13:03:27           2016         51  1.0              \n",
      "thedevastator/latest-licensed-playstation-games-in-japan        PlayStation Games                           53KB  2022-11-09 02:51:20            448         25  0.9411765        \n",
      "hasibalmuzdadid/global-air-pollution-dataset                    Global Air Pollution Dataset               371KB  2022-11-08 14:43:32           1530         52  1.0              \n",
      "whenamancodes/world-happiness-report                            He..He..He... World Happiness Report 2022  120KB  2022-10-26 09:28:48            676         26  1.0              \n",
      "maharshipandya/-spotify-tracks-dataset                          🎹 Spotify Tracks Dataset                     8MB  2022-10-22 14:40:15           2735         88  1.0              \n",
      "whenamancodes/students-performance-in-exams                     Students Performance in Exams                9KB  2022-09-14 15:14:54          17187        321  1.0              \n",
      "whenamancodes/predict-diabities                                 Predict Diabetes                             9KB  2022-11-09 12:18:49           1018         30  1.0              \n",
      "iamsouravbanerjee/game-of-thrones-dataset                       Game of Thrones Dataset                     33KB  2022-11-10 11:41:21            265         26  1.0              \n",
      "jalota/books-dataset                                            Books_dataset                              537KB  2022-11-02 21:02:48            743         22  1.0              \n",
      "stetsondone/video-game-sales-by-genre                           Video Game Sales by Genre                   12KB  2022-10-31 17:56:01           1144         28  1.0              \n",
      "marta99/elon-musks-tweets-dataset-2022                          Elon Musk's Tweets Dataset 2022            293KB  2022-10-27 19:10:46            470         26  1.0              \n",
      "akshaydattatraykhare/car-details-dataset                        Car Details Dataset                         56KB  2022-10-21 06:11:56           3115         53  1.0              \n",
      "cedricaubin/ai-ml-salaries                                      AI/ML Salaries                              11KB  2022-11-06 11:20:31            427         24  1.0              \n",
      "thedevastator/predicting-job-titles-from-resumes                Predicting Job Titles from Resumes          40KB  2022-11-05 10:23:35            644         26  1.0              \n",
      "rishikeshkonapure/zomato                                        Zomato                                      89MB  2022-10-29 06:56:33            745         32  1.0              \n",
      "maharshipandya/-cryptocurrency-historical-prices-dataset        🪙 Cryptocurrency Prices Data                 3MB  2022-10-26 05:28:27            781         29  0.9411765        \n",
      "Downloading game-of-thrones-dataset.zip to /root/sagemaker_data_ingestion\n",
      "  0%|                                               | 0.00/32.7k [00:00<?, ?B/s]\n",
      "100%|██████████████████████████████████████| 32.7k/32.7k [00:00<00:00, 3.13MB/s]\n",
      "CPU times: user 27.7 ms, sys: 8 ms, total: 35.7 ms\n",
      "Wall time: 1.53 s\n"
     ]
    }
   ],
   "source": [
    "%%time\n",
    "\n",
    "!kaggle datasets list # List available datasets\n",
    "!kaggle datasets download -d iamsouravbanerjee/game-of-thrones-dataset --unzip # Downloads & Unzip dataset"
   ]
  },
  {
   "cell_type": "markdown",
   "id": "43834055-09b3-4675-b102-2ebec6dad965",
   "metadata": {},
   "source": [
    "Now that the dataset is downloaded, let us visualize what the cvs file looks like. We will use pandas to load and display the data. "
   ]
  },
  {
   "cell_type": "code",
   "execution_count": 18,
   "id": "50f9f156-f898-4d28-a9d0-4266e4dfb204",
   "metadata": {},
   "outputs": [
    {
     "data": {
      "text/html": [
       "<div>\n",
       "<style scoped>\n",
       "    .dataframe tbody tr th:only-of-type {\n",
       "        vertical-align: middle;\n",
       "    }\n",
       "\n",
       "    .dataframe tbody tr th {\n",
       "        vertical-align: top;\n",
       "    }\n",
       "\n",
       "    .dataframe thead th {\n",
       "        text-align: right;\n",
       "    }\n",
       "</style>\n",
       "<table border=\"1\" class=\"dataframe\">\n",
       "  <thead>\n",
       "    <tr style=\"text-align: right;\">\n",
       "      <th></th>\n",
       "      <th>Season</th>\n",
       "      <th>No. of Episode (Season)</th>\n",
       "      <th>No. of Episode (Overall)</th>\n",
       "      <th>Title of the Episode</th>\n",
       "      <th>Running Time (Minutes)</th>\n",
       "      <th>Directed by</th>\n",
       "      <th>Written by</th>\n",
       "      <th>Original Air Date</th>\n",
       "      <th>U.S. Viewers (Millions)</th>\n",
       "      <th>Music by</th>\n",
       "      <th>Cinematography by</th>\n",
       "      <th>Editing by</th>\n",
       "      <th>IMDb Rating</th>\n",
       "      <th>Rotten Tomatoes Rating (Percentage)</th>\n",
       "      <th>Metacritic Ratings</th>\n",
       "      <th>Ordered</th>\n",
       "      <th>Filming Duration</th>\n",
       "      <th>Novel(s) Adapted</th>\n",
       "      <th>Synopsis</th>\n",
       "    </tr>\n",
       "  </thead>\n",
       "  <tbody>\n",
       "    <tr>\n",
       "      <th>0</th>\n",
       "      <td>1</td>\n",
       "      <td>1</td>\n",
       "      <td>1</td>\n",
       "      <td>Winter Is Coming</td>\n",
       "      <td>61</td>\n",
       "      <td>Tim Van Patten</td>\n",
       "      <td>David Benioff, D. B. Weiss</td>\n",
       "      <td>17-Apr-2011</td>\n",
       "      <td>2.22</td>\n",
       "      <td>Ramin Djawadi</td>\n",
       "      <td>Alik Sakharov</td>\n",
       "      <td>Oral Norrie Ottey</td>\n",
       "      <td>8.9</td>\n",
       "      <td>100</td>\n",
       "      <td>9.1</td>\n",
       "      <td>March 2, 2010</td>\n",
       "      <td>Second half of 2010</td>\n",
       "      <td>A Game of Thrones</td>\n",
       "      <td>North of the Seven Kingdoms of Westeros, Night...</td>\n",
       "    </tr>\n",
       "    <tr>\n",
       "      <th>1</th>\n",
       "      <td>1</td>\n",
       "      <td>2</td>\n",
       "      <td>2</td>\n",
       "      <td>The Kingsroad</td>\n",
       "      <td>55</td>\n",
       "      <td>Tim Van Patten</td>\n",
       "      <td>David Benioff, D. B. Weiss</td>\n",
       "      <td>24-Apr-2011</td>\n",
       "      <td>2.20</td>\n",
       "      <td>Ramin Djawadi</td>\n",
       "      <td>Alik Sakharov</td>\n",
       "      <td>Oral Norrie Ottey</td>\n",
       "      <td>8.6</td>\n",
       "      <td>100</td>\n",
       "      <td>8.9</td>\n",
       "      <td>March 2, 2010</td>\n",
       "      <td>Second half of 2010</td>\n",
       "      <td>A Game of Thrones</td>\n",
       "      <td>Ned, the new Hand of the King, travels to King...</td>\n",
       "    </tr>\n",
       "    <tr>\n",
       "      <th>2</th>\n",
       "      <td>1</td>\n",
       "      <td>3</td>\n",
       "      <td>3</td>\n",
       "      <td>Lord Snow</td>\n",
       "      <td>57</td>\n",
       "      <td>Brian Kirk</td>\n",
       "      <td>David Benioff, D. B. Weiss</td>\n",
       "      <td>1-May-2011</td>\n",
       "      <td>2.44</td>\n",
       "      <td>Ramin Djawadi</td>\n",
       "      <td>Marco Pontecorvo</td>\n",
       "      <td>Frances Parker</td>\n",
       "      <td>8.5</td>\n",
       "      <td>81</td>\n",
       "      <td>8.7</td>\n",
       "      <td>March 2, 2010</td>\n",
       "      <td>Second half of 2010</td>\n",
       "      <td>A Game of Thrones</td>\n",
       "      <td>Ned attends the King's Small Council and learn...</td>\n",
       "    </tr>\n",
       "    <tr>\n",
       "      <th>3</th>\n",
       "      <td>1</td>\n",
       "      <td>4</td>\n",
       "      <td>4</td>\n",
       "      <td>Cripples, Bastards, and Broken Things</td>\n",
       "      <td>55</td>\n",
       "      <td>Brian Kirk</td>\n",
       "      <td>Bryan Cogman</td>\n",
       "      <td>8-May-2011</td>\n",
       "      <td>2.45</td>\n",
       "      <td>Ramin Djawadi</td>\n",
       "      <td>Marco Pontecorvo</td>\n",
       "      <td>Frances Parker</td>\n",
       "      <td>8.6</td>\n",
       "      <td>100</td>\n",
       "      <td>9.1</td>\n",
       "      <td>March 2, 2010</td>\n",
       "      <td>Second half of 2010</td>\n",
       "      <td>A Game of Thrones</td>\n",
       "      <td>While returning to King's Landing, Tyrion stop...</td>\n",
       "    </tr>\n",
       "    <tr>\n",
       "      <th>4</th>\n",
       "      <td>1</td>\n",
       "      <td>5</td>\n",
       "      <td>5</td>\n",
       "      <td>The Wolf and the Lion</td>\n",
       "      <td>54</td>\n",
       "      <td>Brian Kirk</td>\n",
       "      <td>David Benioff, D. B. Weiss</td>\n",
       "      <td>15-May-2011</td>\n",
       "      <td>2.58</td>\n",
       "      <td>Ramin Djawadi</td>\n",
       "      <td>Marco Pontecorvo</td>\n",
       "      <td>Frances Parker</td>\n",
       "      <td>9.0</td>\n",
       "      <td>95</td>\n",
       "      <td>9.0</td>\n",
       "      <td>March 2, 2010</td>\n",
       "      <td>Second half of 2010</td>\n",
       "      <td>A Game of Thrones</td>\n",
       "      <td>King Robert's eunuch spy, Varys, has uncovered...</td>\n",
       "    </tr>\n",
       "  </tbody>\n",
       "</table>\n",
       "</div>"
      ],
      "text/plain": [
       "   Season  No. of Episode (Season)  No. of Episode (Overall)  \\\n",
       "0       1                        1                         1   \n",
       "1       1                        2                         2   \n",
       "2       1                        3                         3   \n",
       "3       1                        4                         4   \n",
       "4       1                        5                         5   \n",
       "\n",
       "                    Title of the Episode  Running Time (Minutes)  \\\n",
       "0                       Winter Is Coming                      61   \n",
       "1                          The Kingsroad                      55   \n",
       "2                              Lord Snow                      57   \n",
       "3  Cripples, Bastards, and Broken Things                      55   \n",
       "4                  The Wolf and the Lion                      54   \n",
       "\n",
       "      Directed by                  Written by Original Air Date  \\\n",
       "0  Tim Van Patten  David Benioff, D. B. Weiss       17-Apr-2011   \n",
       "1  Tim Van Patten  David Benioff, D. B. Weiss       24-Apr-2011   \n",
       "2      Brian Kirk  David Benioff, D. B. Weiss        1-May-2011   \n",
       "3      Brian Kirk                Bryan Cogman        8-May-2011   \n",
       "4      Brian Kirk  David Benioff, D. B. Weiss       15-May-2011   \n",
       "\n",
       "   U.S. Viewers (Millions)       Music by Cinematography by  \\\n",
       "0                     2.22  Ramin Djawadi     Alik Sakharov   \n",
       "1                     2.20  Ramin Djawadi     Alik Sakharov   \n",
       "2                     2.44  Ramin Djawadi  Marco Pontecorvo   \n",
       "3                     2.45  Ramin Djawadi  Marco Pontecorvo   \n",
       "4                     2.58  Ramin Djawadi  Marco Pontecorvo   \n",
       "\n",
       "          Editing by  IMDb Rating  Rotten Tomatoes Rating (Percentage)  \\\n",
       "0  Oral Norrie Ottey          8.9                                  100   \n",
       "1  Oral Norrie Ottey          8.6                                  100   \n",
       "2     Frances Parker          8.5                                   81   \n",
       "3     Frances Parker          8.6                                  100   \n",
       "4     Frances Parker          9.0                                   95   \n",
       "\n",
       "   Metacritic Ratings        Ordered     Filming Duration   Novel(s) Adapted  \\\n",
       "0                 9.1  March 2, 2010  Second half of 2010  A Game of Thrones   \n",
       "1                 8.9  March 2, 2010  Second half of 2010  A Game of Thrones   \n",
       "2                 8.7  March 2, 2010  Second half of 2010  A Game of Thrones   \n",
       "3                 9.1  March 2, 2010  Second half of 2010  A Game of Thrones   \n",
       "4                 9.0  March 2, 2010  Second half of 2010  A Game of Thrones   \n",
       "\n",
       "                                            Synopsis  \n",
       "0  North of the Seven Kingdoms of Westeros, Night...  \n",
       "1  Ned, the new Hand of the King, travels to King...  \n",
       "2  Ned attends the King's Small Council and learn...  \n",
       "3  While returning to King's Landing, Tyrion stop...  \n",
       "4  King Robert's eunuch spy, Varys, has uncovered...  "
      ]
     },
     "execution_count": 18,
     "metadata": {},
     "output_type": "execute_result"
    }
   ],
   "source": [
    "data = pd.read_csv(\"Game_of_Thrones.csv\", header=0)\n",
    "df = data.copy()\n",
    "df.head() \n"
   ]
  },
  {
   "cell_type": "code",
   "execution_count": null,
   "id": "04c89070-5595-4976-b427-02cb39d0f6dd",
   "metadata": {},
   "outputs": [],
   "source": []
  }
 ],
 "metadata": {
  "instance_type": "ml.t3.medium",
  "kernelspec": {
   "display_name": "Python 3 (Data Science)",
   "language": "python",
   "name": "python3__SAGEMAKER_INTERNAL__arn:aws:sagemaker:us-east-1:081325390199:image/datascience-1.0"
  },
  "language_info": {
   "codemirror_mode": {
    "name": "ipython",
    "version": 3
   },
   "file_extension": ".py",
   "mimetype": "text/x-python",
   "name": "python",
   "nbconvert_exporter": "python",
   "pygments_lexer": "ipython3",
   "version": "3.7.10"
  }
 },
 "nbformat": 4,
 "nbformat_minor": 5
}
